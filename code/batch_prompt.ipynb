{
 "cells": [
  {
   "cell_type": "code",
   "execution_count": null,
   "id": "c2237392",
   "metadata": {},
   "outputs": [],
   "source": [
    "import json\n",
    "import pandas as pd\n",
    "import json\n",
    "from typing import List, Dict, Optional\n",
    "from groq import Groq"
   ]
  },
  {
   "cell_type": "markdown",
   "id": "fad7cf69",
   "metadata": {},
   "source": [
    "## GPT using Groq"
   ]
  },
  {
   "cell_type": "code",
   "execution_count": null,
   "id": "5b88e778",
   "metadata": {},
   "outputs": [],
   "source": [
    "import os\n",
    "from groq import Groq\n",
    "from openai import OpenAI\n",
    "\n",
    "import os\n",
    "import openai\n",
    "\n",
    "client = openai.OpenAI(\n",
    "    base_url=\"https://api.groq.com/openai/v1\",\n",
    "    api_key= os.getenv(\"GROQ_API_KEY\"),\n",
    ")\n",
    "\n",
    "client = Groq(api_key=os.getenv(\"GROQ_API_KEY\"))\n",
    "client1 = OpenAI(api_key= os.getenv(\"openai_api_key\"))\n",
    "\n",
    "file_path = \"/home/nebulamind/Documents/AI Lab/AskDeen/prepared_outputs/gpt_batch_001.jsonl\"\n",
    "response = client.files.create(file=open(file_path, \"rb\"), purpose=\"batch\")\n",
    "\n",
    "print(response)"
   ]
  },
  {
   "cell_type": "code",
   "execution_count": null,
   "id": "b39f5e21",
   "metadata": {},
   "outputs": [],
   "source": [
    "\n",
    "OUTPUT_DIR = \"./outputs_groq\"\n",
    "os.makedirs(OUTPUT_DIR, exist_ok=True)\n",
    "\n",
    "job_ids = [\n",
    "    # \"e.g. batch_hg56fgf65fdhf56hdf\"\n",
    "]\n",
    "\n",
    "def download_outputs():\n",
    "    all_data = []\n",
    "\n",
    "    for job_id in job_ids:\n",
    "        print(f\"📥 Fetching job {job_id}\")\n",
    "        batch = client.batches.retrieve(job_id)\n",
    "        file_id = batch.output_file_id\n",
    "\n",
    "        if not file_id:\n",
    "            print(f\"⚠️ No output file yet for job {job_id}\")\n",
    "            continue\n",
    "\n",
    "        content = client1.files.content(file_id).text\n",
    "        with open(f\"{OUTPUT_DIR}/{job_id}_output.jsonl\", \"w\", encoding=\"utf-8\") as f:\n",
    "            f.write(content)\n",
    "\n",
    "        for line in content.strip().split(\"\\n\"):\n",
    "            record = json.loads(line)\n",
    "            custom_id = record[\"custom_id\"]\n",
    "            translated = record[\"response\"][\"body\"][\"choices\"][0][\"message\"][\"content\"]\n",
    "            all_data.append({\"custom_id\": custom_id, \"translation\": translated})\n",
    "\n",
    "    df = pd.DataFrame(all_data)\n",
    "    df.to_csv(f\"{OUTPUT_DIR}/all_translations.csv\", index=False)\n",
    "    print(\"✅ Results saved to all_translations.csv\")\n",
    "\n",
    "if __name__ == \"__main__\":\n",
    "    download_outputs()"
   ]
  },
  {
   "cell_type": "code",
   "execution_count": null,
   "id": "fcbf5427",
   "metadata": {},
   "outputs": [],
   "source": []
  },
  {
   "cell_type": "markdown",
   "id": "6ae8915f",
   "metadata": {},
   "source": [
    "## GPT using OpenAI batch API"
   ]
  },
  {
   "cell_type": "code",
   "execution_count": null,
   "id": "b80f402c",
   "metadata": {},
   "outputs": [],
   "source": [
    "from openai import OpenAI\n",
    "\n",
    "batch_input_file = client1.files.create(\n",
    "    file=open(\"/home/nebulamind/Documents/AI Lab/AskDeen/prepared_outputs/gpt_batch_001.jsonl\", \"rb\"),\n",
    "    purpose=\"batch\"\n",
    ")\n",
    "\n",
    "print(batch_input_file)"
   ]
  },
  {
   "cell_type": "code",
   "execution_count": null,
   "id": "bb46b0f3",
   "metadata": {},
   "outputs": [],
   "source": [
    "from openai import OpenAI\n",
    "# client = OpenAI()\n",
    "\n",
    "batch_input_file_id = batch_input_file.id\n",
    "client1.batches.create(\n",
    "    input_file_id=batch_input_file_id,\n",
    "    endpoint=\"/v1/chat/completions\",\n",
    "    completion_window=\"24h\",\n",
    "    metadata={\n",
    "        \"description\": \"nightly eval job\"\n",
    "    }\n",
    ")"
   ]
  },
  {
   "cell_type": "code",
   "execution_count": null,
   "id": "f6f8bf4f",
   "metadata": {},
   "outputs": [],
   "source": [
    "#chech the batch status\n",
    "\n",
    "batch = client.batches.retrieve(\"batch_abc123\")\n",
    "print(batch)"
   ]
  },
  {
   "cell_type": "code",
   "execution_count": null,
   "id": "32286489",
   "metadata": {},
   "outputs": [],
   "source": [
    "#get response of batch file \n",
    "\n",
    "file_response = client.files.content(\"file-xyz123\")\n",
    "print(file_response.text)"
   ]
  },
  {
   "cell_type": "code",
   "execution_count": null,
   "id": "0e5d3013",
   "metadata": {},
   "outputs": [],
   "source": []
  },
  {
   "cell_type": "markdown",
   "id": "f4a11d87",
   "metadata": {},
   "source": [
    "## ---\n"
   ]
  },
  {
   "cell_type": "code",
   "execution_count": null,
   "id": "f61add62",
   "metadata": {},
   "outputs": [],
   "source": [
    "# import os\n",
    "# import json\n",
    "# import openai\n",
    "\n",
    "# # Set your environment variable for GROQ API Key or manually assign it\n",
    "\n",
    "\n",
    "# # Create OpenAI client with Groq endpoint\n",
    "# client = openai.OpenAI(\n",
    "#     base_url=\"https://api.groq.com/openai/v1\",\n",
    "#     api_key=os.environ.get(\"GROQ_API_KEY\")\n",
    "# )\n",
    "\n",
    "# # Constants\n",
    "# JSONL_FILE_PATH = \"/home/nebulamind/Documents/AI Lab/AskDeen/prepared_outputs/gpt_batch_test.jsonl\"\n",
    "# MODEL_NAME = \"gpt-3.5-turbo\"\n",
    "\n",
    "# # Load batch data from JSONL\n",
    "# def load_jsonl(file_path):\n",
    "#     with open(file_path, \"r\", encoding=\"utf-8\") as f:\n",
    "#         return [json.loads(line.strip()) for line in f.readlines()]\n",
    "\n",
    "# # Perform batch inference\n",
    "# def run_batch_inference(data, model=MODEL_NAME):\n",
    "#     results = []\n",
    "\n",
    "#     for idx, item in enumerate(data):\n",
    "#         try:\n",
    "#             response = client.chat.completions.create(\n",
    "#                 model=model,\n",
    "#                 messages=item[\"messages\"]\n",
    "#             )\n",
    "#             output = response.choices[0].message.content\n",
    "#             results.append({\n",
    "#                 \"input\": item,\n",
    "#                 \"output\": output\n",
    "#             })\n",
    "#             print(f\"✓ Processed item {idx + 1}/{len(data)}\")\n",
    "#         except Exception as e:\n",
    "#             print(f\"✗ Error on item {idx + 1}: {e}\")\n",
    "#             results.append({\n",
    "#                 \"input\": item,\n",
    "#                 \"output\": None,\n",
    "#                 \"error\": str(e)\n",
    "#             })\n",
    "\n",
    "#     return results\n",
    "\n",
    "# # Run the process\n",
    "# if __name__ == \"__main__\":\n",
    "#     batch_data = load_jsonl(JSONL_FILE_PATH)\n",
    "#     outputs = run_batch_inference(batch_data)\n",
    "\n",
    "#     # Save results\n",
    "#     with open(\"groq_batch_outputs.json\", \"w\", encoding=\"utf-8\") as f:\n",
    "#         json.dump(outputs, f, indent=2, ensure_ascii=False)\n",
    "\n",
    "#     print(\"✅ Batch inference complete. Output saved to groq_batch_outputs.json\")\n"
   ]
  },
  {
   "cell_type": "markdown",
   "id": "df719863",
   "metadata": {},
   "source": [
    "## ---"
   ]
  },
  {
   "cell_type": "code",
   "execution_count": null,
   "id": "3e2d8ed7",
   "metadata": {},
   "outputs": [],
   "source": [
    "import os, json\n",
    "from groq import Groq\n",
    "from time import sleep\n",
    "\n",
    "\n",
    "client = openai.OpenAI(\n",
    "    base_url=\"https://api.groq.com/openai/v1\",\n",
    "    api_key=os.environ.get(\"GROQ_API_KEY\")\n",
    ")\n",
    "\n",
    "# client = Groq(api_key=os.environ[\"GROQ_API_KEY\"])\n",
    "input_path = \"/home/nebulamind/Documents/AI Lab/AskDeen/prepared_outputs/gpt_batch_test.jsonl\"\n",
    "output_path = \"/home/nebulamind/Documents/AI Lab/AskDeen/prepared_outputs/llama3_responses.jsonl\"\n",
    "\n",
    "with open(input_path, \"r\", encoding=\"utf-8\") as fin, open(output_path, \"w\", encoding=\"utf-8\") as fout:\n",
    "    for line in fin:\n",
    "        record = json.loads(line)\n",
    "        msgs = record[\"messages\"]\n",
    "        resp = client.chat.completions.create(\n",
    "            model=\"meta-llama/llama-4-maverick-17b-128e-instruct\",\n",
    "            messages=msgs\n",
    "        )\n",
    "        output = {\n",
    "            \"input\": record,\n",
    "            \"output\": resp.choices[0].message.content\n",
    "        }\n",
    "        fout.write(json.dumps(output, ensure_ascii=False) + \"\\n\")\n",
    "        sleep(0.3)  # throttle as needed\n"
   ]
  },
  {
   "cell_type": "code",
   "execution_count": null,
   "id": "cefb206f",
   "metadata": {},
   "outputs": [],
   "source": []
  }
 ],
 "metadata": {
  "kernelspec": {
   "display_name": "finetuning",
   "language": "python",
   "name": "python3"
  },
  "language_info": {
   "codemirror_mode": {
    "name": "ipython",
    "version": 3
   },
   "file_extension": ".py",
   "mimetype": "text/x-python",
   "name": "python",
   "nbconvert_exporter": "python",
   "pygments_lexer": "ipython3",
   "version": "3.12.9"
  }
 },
 "nbformat": 4,
 "nbformat_minor": 5
}
